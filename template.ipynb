{
 "cells": [
  {
   "cell_type": "markdown",
   "metadata": {},
   "source": [
    "# Title\n",
    "\n",
    "Motivation: Describe why we should care, what is the goal, method etc.\n",
    "Form a hypothesis!\n",
    "Potential references."
   ]
  },
  {
   "cell_type": "markdown",
   "metadata": {},
   "source": [
    "# Intro to data set\n",
    "#what is the data, explain dataset"
   ]
  },
  {
   "cell_type": "code",
   "execution_count": null,
   "metadata": {},
   "outputs": [],
   "source": [
    "#General goal: analyze data to discover trends\n",
    "import numpy as np\n",
    "import pandas as pd\n",
    "import matplotlib.pyplot as plt\n",
    "import sklearn\n",
    "import seaborn as sns\n",
    "\n",
    "#load data\n",
    "input_train_csv = \"train_data.csv\"\n",
    "input_test_csv = \"test_data.csv\"\n",
    "\n",
    "df_train = pd.read_csv(input_train_csv)\n",
    "df_test = pd.read_csv(input_test_csv)\n",
    "\n",
    "df_train.describe"
   ]
  },
  {
   "cell_type": "code",
   "execution_count": null,
   "metadata": {},
   "outputs": [],
   "source": [
    "\n",
    "#correlation matrix\n",
    "correlation_matrix = df_train.corr(method= 'pearson')\n",
    "sns.heatmap(correlation_matrix, vmax=1.0, vmin=-1.0,square=True, cmap='viridis')\n",
    "correlation_matrix\n"
   ]
  },
  {
   "cell_type": "markdown",
   "metadata": {},
   "source": [
    "# Data clean up \n",
    "Where applicable add markdown subtitle box and code box for any of the following points:\n",
    "- missing data handling\n",
    "- transformation/digitalisation\n",
    "- normalize\n",
    "- remove duplicated\n",
    "- remove low variance \n",
    "- remove correlated variables (above which threshold)"
   ]
  },
  {
   "cell_type": "code",
   "execution_count": null,
   "metadata": {},
   "outputs": [],
   "source": [
    "#remove nans or replace with mean/median etc.\n",
    "#transformation etc.\n",
    "from sklearn.preprocessing import LabelEncoder\n",
    "from sklearn.feature_selection import VarianceThreshold"
   ]
  },
  {
   "cell_type": "markdown",
   "metadata": {},
   "source": [
    "# Method use for analysis\n",
    "describe method we intend to use. \n",
    "The best model was evaluated using lazy predic (link).\n",
    "try to prove your hypothesis (or not)\n"
   ]
  },
  {
   "cell_type": "code",
   "execution_count": null,
   "metadata": {},
   "outputs": [],
   "source": [
    "#split data test/train\n",
    "from sklearn.model_selection import train_test_split\n",
    "\n",
    "#apply basic analysis"
   ]
  },
  {
   "cell_type": "markdown",
   "metadata": {},
   "source": [
    "# Results"
   ]
  },
  {
   "cell_type": "markdown",
   "metadata": {},
   "source": [
    "# Interpreation of the results from above section\n",
    "Good bad ugly? hypothesis prvoen (or not)?\n",
    "why change in approach needed, in what direction? -> Subsection if needed with new approach"
   ]
  },
  {
   "cell_type": "code",
   "execution_count": null,
   "metadata": {},
   "outputs": [],
   "source": [
    "#how change in approach"
   ]
  },
  {
   "cell_type": "markdown",
   "metadata": {},
   "source": [
    "# ask follow up questions (continue to improve model, add in more predictors)"
   ]
  },
  {
   "cell_type": "markdown",
   "metadata": {},
   "source": [
    "# next steps (improve technique, algorithm, more predictors, more data, different data)"
   ]
  }
 ],
 "metadata": {
  "kernelspec": {
   "display_name": "Python 3.10.4 64-bit",
   "language": "python",
   "name": "python3"
  },
  "language_info": {
   "name": "python",
   "version": "3.10.4"
  },
  "orig_nbformat": 4,
  "vscode": {
   "interpreter": {
    "hash": "b6ada6e7084c1dbeb9b904783d0b4a2c1a876dde448106a8ef6ca08ef16746ef"
   }
  }
 },
 "nbformat": 4,
 "nbformat_minor": 2
}
