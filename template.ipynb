# create hypothesis
# analysize data to discover trends
# try to prove your hypothesis (or not)
# ask follow up questions (continue to improve model, add in more predictors)
# think of next steps
# Write blurb at beginning to describe proj
# write paper format, intro, methods, analysis, results, next steps (improve technique, algorithm, more predictors)

